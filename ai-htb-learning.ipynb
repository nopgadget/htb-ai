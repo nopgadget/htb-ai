{
 "cells": [
  {
   "cell_type": "markdown",
   "id": "b912a171",
   "metadata": {},
   "source": [
    "## Python Libraries for AI\n",
    "\n",
    "### Scikit-learn\n",
    "- Built on numpy, scipy, matplotlib\n",
    "- Does supervised learning, unsupervised, model selection & eval, data processing\n",
    "\n",
    "Data Preprocessing\n",
    "- tools to transform raw data into suitable format\n",
    "- Feature scaling. StandardScaler, MinMaxScaler, RobustScaler"
   ]
  },
  {
   "cell_type": "code",
   "execution_count": null,
   "id": "440a992a",
   "metadata": {},
   "outputs": [],
   "source": [
    "from sklearn.preprocessing import StandardScaler\n",
    "\n",
    "scaler = StandardScaler()\n",
    "X_scaled = scaler.fit_transform(X)"
   ]
  },
  {
   "cell_type": "markdown",
   "id": "ece9c077",
   "metadata": {},
   "source": [
    "OneHotEncoder: Creates binary column for each category\n",
    "LabelEncoder: Unique int for each cat"
   ]
  },
  {
   "cell_type": "code",
   "execution_count": null,
   "id": "a33497f3",
   "metadata": {},
   "outputs": [],
   "source": [
    "from sklearn.preprocessing import OneHotEncoder\n",
    "\n",
    "encoder = OneHotEncoder()\n",
    "X_encoded = encoder.fit_transform(X)"
   ]
  },
  {
   "cell_type": "markdown",
   "id": "d81c994e",
   "metadata": {},
   "source": [
    "SimpleImputer: Replace missing values with specified strat (mean, median, most frequent, etc)\n",
    "KNNImputer: Imputes missing values with k-Nearest neighbors alg"
   ]
  },
  {
   "cell_type": "code",
   "execution_count": null,
   "id": "5d1c6c89",
   "metadata": {},
   "outputs": [],
   "source": [
    "from sklearn.impute import SimpleImputer\n",
    "\n",
    "imputer = SimpleImputer(strategy='mean')\n",
    "X_imputed = imputer.fit_transform(X)"
   ]
  },
  {
   "cell_type": "markdown",
   "id": "d263067d",
   "metadata": {},
   "source": [
    "Scikit-learn has tools for selecting best model & evaluating performance\n",
    "Splitting data into training & testing sets important for evaluating model's generalization ability for unseen data\n",
    "\n",
    "Cross-validation more robust eval by splitting data into folds and testing/training on diff combos"
   ]
  },
  {
   "cell_type": "code",
   "execution_count": null,
   "id": "122fe207",
   "metadata": {},
   "outputs": [],
   "source": [
    "# Splitting\n",
    "from sklearn.model_selection import train_test_split\n",
    "\n",
    "X_train, X_test, y_train, y_test = train_test_split(X, y, test_size=0.2)\n",
    "\n",
    "# Cross-validation\n",
    "from sklearn.model_selection import cross_val_score\n",
    "\n",
    "scores = cross_val_score(model, X, y, cv=5)"
   ]
  },
  {
   "cell_type": "markdown",
   "id": "b3392d50",
   "metadata": {},
   "source": [
    "Metrics to eval model performance\n",
    "\n",
    "- accuracy_score: Class tasks\n",
    "- mean_squared_error: Regression tasks\n",
    "- precision_score, recall_score, f1_score: Class tasks with imbalanced classes"
   ]
  },
  {
   "cell_type": "code",
   "execution_count": null,
   "id": "52c46a9e",
   "metadata": {},
   "outputs": [],
   "source": [
    "from sklearn.metrics import accuracy_score\n",
    "\n",
    "accuracy = accuracy_score(y_test, y_pred)"
   ]
  },
  {
   "cell_type": "markdown",
   "id": "1c657b8c",
   "metadata": {},
   "source": [
    "Model Training & Prediction\n",
    "Consistent API for training & predicting w/ diff models"
   ]
  },
  {
   "cell_type": "code",
   "execution_count": null,
   "id": "62c172dd",
   "metadata": {},
   "outputs": [],
   "source": [
    "from sklearn.linear_model import LogisticRegression\n",
    "\n",
    "model = LogisticRegression(C=1.0)\n",
    "\n",
    "# Train model using fit() method with training data\n",
    "model.fit(X_train, y_train)\n",
    "\n",
    "# Make predictions on new data using predict()\n",
    "y_pred = model.predict(X_test)"
   ]
  },
  {
   "cell_type": "markdown",
   "id": "f346c37d",
   "metadata": {},
   "source": [
    "### PyTorch\n",
    "\n",
    "FOSS ml lib developed by FB AI Research Lab. Framework for building & deploying various types of ML models, including Deep Learning models\n",
    "\n",
    "Features\n",
    "- Deep Learning: Excels at DL, can develop CNN with multiple layers & architectures\n",
    "- Dynamic Computational Graphs: Unlike static comp graphs like in TensorFlow, uses DCG which allow for more flexible & intuitive model building/debugging\n",
    "- GPU Support: GPU accel, speeds up training process for compu intensive models\n",
    "- TorchVision Integration: Library integrated that provides user-friendly interface for image datasets, pre-trained models, common image transformations\n",
    "- Auto Differentiation: Uses autograd to auto compute gradients, simplifying process of backpropagation\n",
    "- Community/Ecosystem: Large community, rich ecosystem tools, libraries, resources\n",
    "\n",
    "Dynamic Computation Graph: created on fly during forward pass, allowing more flexible & dynamic model building. Easier to implement complex/nonlinear models\n",
    "Tensors: multi-dimensional array hold data being processed. Can be const, var, placeholders. PyTorch tensors similar to numpy arrays but can run on GPU for faster compu"
   ]
  },
  {
   "cell_type": "code",
   "execution_count": null,
   "id": "fb4cba6c",
   "metadata": {},
   "outputs": [],
   "source": [
    "import torch\n",
    "\n",
    "x = torch.tensor([1.0,2.0,3.0])\n",
    "if torch.cuda.is_available():\n",
    "    x = x.to('cuda')\n",
    "\n",
    "# torch.nn contains various layers/modules for constructing NN\n",
    "# Sequential API allows building models layer by layer, adding each sequentially\n",
    "\n",
    "import torch.nn as nn\n",
    "\n",
    "model = nn.Sequential(\n",
    "    nn.Linear(784,128),\n",
    "    nn.ReLU(),\n",
    "    nn.Linear(128,10),\n",
    "    nn.Softmax(dim=1)\n",
    ")\n",
    "\n",
    "# Module class provides more flex for building complex models with nonlinear topologies, shared layers, multiple input/output\n",
    "\n",
    "class CustomModel(nn.Module):\n",
    "    def __init__(self):\n",
    "        super(CustomModel, self).__init__()\n",
    "        self.layer1 = nn.Linear(784,128)\n",
    "        self.relu = nn.ReLU()\n",
    "        self.layer2 = nn.Linear(128,10)\n",
    "        self.softmax = nn.Softmax(dim=1)\n",
    "    def forward(self,x):\n",
    "        x = self.layer1(x)\n",
    "        x = self.relu(x)\n",
    "        x = self.layer2(x)\n",
    "        x = self.softmax(x)\n",
    "        return x\n",
    "    \n",
    "model = CustomModel()"
   ]
  }
 ],
 "metadata": {
  "language_info": {
   "name": "python"
  }
 },
 "nbformat": 4,
 "nbformat_minor": 5
}
