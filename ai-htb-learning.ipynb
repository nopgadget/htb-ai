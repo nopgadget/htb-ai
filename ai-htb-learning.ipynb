{
 "cells": [
  {
   "cell_type": "markdown",
   "id": "b912a171",
   "metadata": {},
   "source": [
    "## Python Libraries for AI\n",
    "\n",
    "### Scikit-learn\n",
    "- Built on numpy, scipy, matplotlib\n",
    "- Does supervised learning, unsupervised, model selection & eval, data processing\n",
    "\n",
    "Data Preprocessing\n",
    "- tools to transform raw data into suitable format\n",
    "- Feature scaling. StandardScaler, MinMaxScaler, RobustScaler"
   ]
  },
  {
   "cell_type": "code",
   "execution_count": null,
   "id": "440a992a",
   "metadata": {},
   "outputs": [],
   "source": [
    "from sklearn.preprocessing import StandardScaler\n",
    "\n",
    "scaler = StandardScaler()\n",
    "X_scaled = scaler.fit_transform(X)"
   ]
  },
  {
   "cell_type": "markdown",
   "id": "ece9c077",
   "metadata": {},
   "source": [
    "OneHotEncoder: Creates binary column for each category\n",
    "LabelEncoder: Unique int for each cat"
   ]
  },
  {
   "cell_type": "code",
   "execution_count": null,
   "id": "a33497f3",
   "metadata": {},
   "outputs": [],
   "source": [
    "from sklearn.preprocessing import OneHotEncoder\n",
    "\n",
    "encoder = OneHotEncoder()\n",
    "X_encoded = encoder.fit_transform(X)"
   ]
  },
  {
   "cell_type": "markdown",
   "id": "a3200507",
   "metadata": {},
   "source": []
  }
 ],
 "metadata": {
  "language_info": {
   "name": "python"
  }
 },
 "nbformat": 4,
 "nbformat_minor": 5
}
